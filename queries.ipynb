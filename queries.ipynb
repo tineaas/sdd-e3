{
 "cells": [
  {
   "cell_type": "code",
   "execution_count": 6,
   "metadata": {},
   "outputs": [
    {
     "name": "stdout",
     "output_type": "stream",
     "text": [
      "You are connected to the database: strava_mongoDB\n",
      "-----------------------------------------------\n",
      "\n",
      "Total number of users: 182\n",
      "Total number of activities: 16048\n",
      "Total number of trackpoints: 9681756\n",
      "\n",
      "-----------------------------------------------\n",
      "Connection to strava_mongoDB-db is closed\n"
     ]
    }
   ],
   "source": [
    "#Task 1: How many users, activities and trackpoints are there in the dataset (after it isinserted into the database)\n",
    "\n",
    "from DbConnector import DbConnector\n",
    "\n",
    "# Step 1: Connect to the database\n",
    "db_connector = DbConnector(DATABASE='strava_mongoDB', HOST=\"localhost\", USER=\"admin\", PASSWORD=\"admin123\")\n",
    "db = db_connector.db\n",
    "\n",
    "# Collections\n",
    "users_collection = db['users']\n",
    "activities_collection = db['activities']\n",
    "\n",
    "# Step 2: Count the number of users\n",
    "user_count = users_collection.count_documents({})\n",
    "print(f\"Total number of users: {user_count}\")\n",
    "\n",
    "# Step 3: Count the number of activities\n",
    "activity_count = activities_collection.count_documents({})\n",
    "print(f\"Total number of activities: {activity_count}\")\n",
    "\n",
    "# Step 4: Count the total number of trackpoints across all activities\n",
    "# Trackpoints are embedded in the activities collection, so we need to sum them\n",
    "pipeline = [\n",
    "    {\"$unwind\": \"$trackpoints\"},  # Unwind the trackpoints array\n",
    "    {\"$group\": {\"_id\": None, \"totalTrackpoints\": {\"$sum\": 1}}}  # Sum the total trackpoints\n",
    "]\n",
    "\n",
    "trackpoint_count_result = list(activities_collection.aggregate(pipeline))\n",
    "\n",
    "# Extract total trackpoints from the aggregation result\n",
    "trackpoint_count = trackpoint_count_result[0]['totalTrackpoints'] if trackpoint_count_result else 0\n",
    "print(f\"Total number of trackpoints: {trackpoint_count}\")\n",
    "\n",
    "# Step 5: Close the connection\n",
    "db_connector.close_connection()"
   ]
  },
  {
   "cell_type": "code",
   "execution_count": 7,
   "metadata": {},
   "outputs": [
    {
     "name": "stdout",
     "output_type": "stream",
     "text": [
      "You are connected to the database: strava_mongoDB\n",
      "-----------------------------------------------\n",
      "\n",
      "Average number of activities per user: 88.18\n",
      "\n",
      "-----------------------------------------------\n",
      "Connection to strava_mongoDB-db is closed\n"
     ]
    }
   ],
   "source": [
    "#Task 2: Find the average number of activities per user\n",
    "\n",
    "from DbConnector import DbConnector\n",
    "\n",
    "# Step 1: Connect to the database\n",
    "db_connector = DbConnector(DATABASE='strava_mongoDB', HOST=\"localhost\", USER=\"admin\", PASSWORD=\"admin123\")\n",
    "db = db_connector.db\n",
    "\n",
    "# Collections\n",
    "users_collection = db['users']\n",
    "\n",
    "# Step 2: Retrieve the total number of activities for each user\n",
    "pipeline = [\n",
    "    {\n",
    "        \"$project\": {\n",
    "            \"num_activities\": {\"$size\": \"$activity_ids\"}  # Get the size of the activity_ids array for each user\n",
    "        }\n",
    "    },\n",
    "    {\n",
    "        \"$group\": {\n",
    "            \"_id\": None,\n",
    "            \"total_activities\": {\"$sum\": \"$num_activities\"},  # Sum up the total number of activities\n",
    "            \"total_users\": {\"$sum\": 1}  # Count the total number of users\n",
    "        }\n",
    "    }\n",
    "]\n",
    "\n",
    "# Step 3: Run the aggregation pipeline\n",
    "result = list(users_collection.aggregate(pipeline))\n",
    "\n",
    "# Step 4: Calculate the average number of activities per user\n",
    "if result and result[0]['total_users'] > 0:\n",
    "    total_activities = result[0]['total_activities']\n",
    "    total_users = result[0]['total_users']\n",
    "    average_activities_per_user = total_activities / total_users\n",
    "    print(f\"Average number of activities per user: {average_activities_per_user:.2f}\")\n",
    "else:\n",
    "    print(\"No users found or no activities data.\")\n",
    "\n",
    "# Step 5: Close the connection\n",
    "db_connector.close_connection()\n"
   ]
  },
  {
   "cell_type": "code",
   "execution_count": null,
   "metadata": {
    "vscode": {
     "languageId": "plaintext"
    }
   },
   "outputs": [],
   "source": [
    "#Task 3\n"
   ]
  },
  {
   "cell_type": "code",
   "execution_count": null,
   "metadata": {
    "vscode": {
     "languageId": "plaintext"
    }
   },
   "outputs": [],
   "source": [
    "#Task 5\n"
   ]
  }
 ],
 "metadata": {
  "language_info": {
   "name": "python"
  }
 },
 "nbformat": 4,
 "nbformat_minor": 2
}
