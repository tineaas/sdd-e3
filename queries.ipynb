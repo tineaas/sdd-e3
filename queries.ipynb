{
 "cells": [
  {
   "cell_type": "code",
   "execution_count": 11,
   "metadata": {},
   "outputs": [
    {
     "name": "stdout",
     "output_type": "stream",
     "text": [
      "You are connected to the database: strava_mongoDB\n",
      "-----------------------------------------------\n",
      "\n",
      "Total number of users: 182\n",
      "Total number of activities: 16048\n",
      "Total number of trackpoints: 9681756\n",
      "\n",
      "-----------------------------------------------\n",
      "Connection to strava_mongoDB-db is closed\n"
     ]
    }
   ],
   "source": [
    "#Task 1: How many users, activities and trackpoints are there in the dataset (after it isinserted into the database)\n",
    "\n",
    "from DbConnector import DbConnector\n",
    "\n",
    "# Step 1: Connect to the database\n",
    "db_connector = DbConnector(DATABASE='strava_mongoDB', HOST=\"localhost\", USER=\"admin\", PASSWORD=\"admin123\")\n",
    "db = db_connector.db\n",
    "\n",
    "# Collections\n",
    "users_collection = db['users']\n",
    "activities_collection = db['activities']\n",
    "\n",
    "# Step 2: Count the number of users\n",
    "user_count = users_collection.count_documents({})\n",
    "print(f\"Total number of users: {user_count}\")\n",
    "\n",
    "# Step 3: Count the number of activities\n",
    "activity_count = activities_collection.count_documents({})\n",
    "print(f\"Total number of activities: {activity_count}\")\n",
    "\n",
    "# Step 4: Count the total number of trackpoints across all activities\n",
    "# Trackpoints are embedded in the activities collection, so we need to sum them\n",
    "pipeline = [\n",
    "    {\"$unwind\": \"$trackpoints\"},  # Unwind the trackpoints array\n",
    "    {\"$group\": {\"_id\": None, \"totalTrackpoints\": {\"$sum\": 1}}}  # Sum the total trackpoints\n",
    "]\n",
    "\n",
    "trackpoint_count_result = list(activities_collection.aggregate(pipeline))\n",
    "\n",
    "# Extract total trackpoints from the aggregation result\n",
    "trackpoint_count = trackpoint_count_result[0]['totalTrackpoints'] if trackpoint_count_result else 0\n",
    "print(f\"Total number of trackpoints: {trackpoint_count}\")\n",
    "\n",
    "# Step 5: Close the connection\n",
    "db_connector.close_connection()"
   ]
  },
  {
   "cell_type": "code",
   "execution_count": 14,
   "metadata": {},
   "outputs": [
    {
     "name": "stdout",
     "output_type": "stream",
     "text": [
      "You are connected to the database: strava_mongoDB\n",
      "-----------------------------------------------\n",
      "\n",
      "Average number of activities per user: 88.18\n",
      "\n",
      "-----------------------------------------------\n",
      "Connection to strava_mongoDB-db is closed\n",
      "yolo\n"
     ]
    }
   ],
   "source": [
    "#Task 2: Find the average number of activities per user\n",
    "\n",
    "from DbConnector import DbConnector\n",
    "\n",
    "# Step 1: Connect to the database\n",
    "db_connector = DbConnector(DATABASE='strava_mongoDB', HOST=\"localhost\", USER=\"admin\", PASSWORD=\"admin123\")\n",
    "db = db_connector.db\n",
    "\n",
    "# Collections\n",
    "users_collection = db['users']\n",
    "\n",
    "# Step 2: Retrieve the total number of activities for each user\n",
    "pipeline = [\n",
    "    {\n",
    "        \"$project\": {\n",
    "            \"num_activities\": {\"$size\": \"$activity_ids\"}  # Get the size of the activity_ids array for each user\n",
    "        }\n",
    "    },\n",
    "    {\n",
    "        \"$group\": {\n",
    "            \"_id\": None,\n",
    "            \"total_activities\": {\"$sum\": \"$num_activities\"},  # Sum up the total number of activities\n",
    "            \"total_users\": {\"$sum\": 1}  # Count the total number of users\n",
    "        }\n",
    "    }\n",
    "]\n",
    "\n",
    "# Step 3: Run the aggregation pipeline\n",
    "result = list(users_collection.aggregate(pipeline))\n",
    "\n",
    "# Step 4: Calculate the average number of activities per user\n",
    "if result and result[0]['total_users'] > 0:\n",
    "    total_activities = result[0]['total_activities']\n",
    "    total_users = result[0]['total_users']\n",
    "    average_activities_per_user = total_activities / total_users\n",
    "    print(f\"Average number of activities per user: {average_activities_per_user:.2f}\")\n",
    "else:\n",
    "    print(\"No users found or no activities data.\")\n",
    "\n",
    "# Step 5: Close the connection\n",
    "db_connector.close_connection()\n",
    "\n"
   ]
  },
  {
   "cell_type": "code",
   "execution_count": 16,
   "metadata": {},
   "outputs": [
    {
     "name": "stdout",
     "output_type": "stream",
     "text": [
      "You are connected to the database: strava_mongoDB\n",
      "-----------------------------------------------\n",
      "\n",
      "User ID: 128, Number of Activities: 2102\n",
      "User ID: 153, Number of Activities: 1793\n",
      "User ID: 25, Number of Activities: 715\n",
      "User ID: 163, Number of Activities: 704\n",
      "User ID: 62, Number of Activities: 691\n",
      "User ID: 144, Number of Activities: 563\n",
      "User ID: 41, Number of Activities: 399\n",
      "User ID: 85, Number of Activities: 364\n",
      "User ID: 4, Number of Activities: 346\n",
      "User ID: 140, Number of Activities: 345\n",
      "User ID: 167, Number of Activities: 320\n",
      "User ID: 68, Number of Activities: 280\n",
      "User ID: 17, Number of Activities: 265\n",
      "User ID: 3, Number of Activities: 261\n",
      "User ID: 14, Number of Activities: 236\n",
      "User ID: 126, Number of Activities: 215\n",
      "User ID: 30, Number of Activities: 210\n",
      "User ID: 112, Number of Activities: 208\n",
      "User ID: 11, Number of Activities: 201\n",
      "User ID: 39, Number of Activities: 198\n",
      "heihei\n"
     ]
    }
   ],
   "source": [
    "#Task 3: \n",
    "# Find the top 20 users with the highest number of activities. \n",
    "\n",
    "# Ensure this part is included at the start of your code\n",
    "from DbConnector import DbConnector\n",
    "\n",
    "# Step 1: Use DbConnector to connect to the database\n",
    "db_connector = DbConnector(DATABASE='strava_mongoDB', HOST=\"localhost\", USER=\"admin\", PASSWORD=\"admin123\")\n",
    "\n",
    "# Collections\n",
    "db = db_connector.db\n",
    "users_collection = db['users']\n",
    "activities_collection = db['activities']\n",
    "\n",
    "# Step 9: Find the top 20 users with the highest number of activities\n",
    "pipeline = [\n",
    "    {\n",
    "        \"$project\": {\n",
    "            \"_id\": 1,  # Include user id in the result\n",
    "            \"num_activities\": { \"$size\": \"$activity_ids\" }  # Calculate the number of activities per user\n",
    "        }\n",
    "    },\n",
    "    {\n",
    "        \"$sort\": { \"num_activities\": -1 }  # Sort by the number of activities in descending order\n",
    "    },\n",
    "    {\n",
    "        \"$limit\": 20  # Limit to the top 20 users\n",
    "    }\n",
    "]\n",
    "\n",
    "# Run the aggregation query\n",
    "top_users = list(users_collection.aggregate(pipeline))\n",
    "\n",
    "# Display the top 20 users with the highest number of activities\n",
    "for user in top_users:\n",
    "    print(f\"User ID: {user['_id']}, Number of Activities: {user['num_activities']}\")\n",
    "\n",
    "\n",
    "\n"
   ]
  },
  {
   "cell_type": "code",
   "execution_count": 17,
   "metadata": {},
   "outputs": [
    {
     "name": "stdout",
     "output_type": "stream",
     "text": [
      "Users who have taken a taxi:\n",
      "User ID: 10\n",
      "User ID: 21\n",
      "User ID: 52\n",
      "User ID: 56\n",
      "User ID: 58\n",
      "User ID: 62\n",
      "User ID: 65\n",
      "User ID: 78\n",
      "User ID: 80\n",
      "User ID: 84\n",
      "User ID: 85\n",
      "User ID: 98\n",
      "User ID: 111\n",
      "User ID: 114\n",
      "User ID: 126\n",
      "User ID: 128\n",
      "User ID: 139\n",
      "User ID: 153\n",
      "User ID: 163\n",
      "User ID: 167\n",
      "User ID: 175\n"
     ]
    }
   ],
   "source": [
    "# Task 4: \n",
    "# Find all users who have taken a taxi\n",
    "\n",
    "\n",
    "\n",
    "# Step 1: Query the activities collection to find activities where transportation_mode is \"taxi\"\n",
    "taxi_activities = activities_collection.find({\"transportation_mode\": \"taxi\"}, {\"_id\": 1})\n",
    "\n",
    "# Step 2: Extract the activity IDs of taxi activities\n",
    "taxi_activity_ids = [activity[\"_id\"] for activity in taxi_activities]\n",
    "\n",
    "# Step 3: Query the users collection to find users whose activity_ids include any taxi activity IDs\n",
    "taxi_users = users_collection.find({\"activity_ids\": {\"$in\": taxi_activity_ids}})\n",
    "\n",
    "# Step 4: Display the user IDs of users who have taken a taxi\n",
    "print(\"Users who have taken a taxi:\")\n",
    "for user in taxi_users:\n",
    "    print(f\"User ID: {user['_id']}\")\n"
   ]
  },
  {
   "cell_type": "code",
   "execution_count": 18,
   "metadata": {},
   "outputs": [
    {
     "name": "stdout",
     "output_type": "stream",
     "text": [
      "Transportation modes and their activity counts:\n",
      "Mode: walk, Count: 1008\n",
      "Mode: bike, Count: 619\n",
      "Mode: car, Count: 493\n",
      "Mode: bus, Count: 471\n",
      "Mode: subway, Count: 190\n",
      "Mode: taxi, Count: 125\n",
      "Mode: airplane, Count: 4\n",
      "Mode: train, Count: 2\n",
      "Mode: run, Count: 1\n",
      "Mode: boat, Count: 1\n"
     ]
    }
   ],
   "source": [
    "# Task 5:\n",
    "\n",
    "# Find all types of transportation modes and count how many activities that are\n",
    "# tagged with these transportation mode labels. Do not count the rows where\n",
    "# the mode is null.\n",
    "\n",
    "\n",
    "\n",
    "pipeline = [\n",
    "    {\n",
    "        # Step 1: Match documents where transportation_mode is not null\n",
    "        \"$match\": {\"transportation_mode\": {\"$ne\": None}}\n",
    "    },\n",
    "    {\n",
    "        # Step 2: Group by transportation_mode and count the number of activities for each mode\n",
    "        \"$group\": {\n",
    "            \"_id\": \"$transportation_mode\",  # Group by transportation_mode\n",
    "            \"count\": {\"$sum\": 1}  # Count the number of activities for each mode\n",
    "        }\n",
    "    },\n",
    "    {\n",
    "        # Step 3: Sort by count in descending order (optional, to get the most common modes first)\n",
    "        \"$sort\": {\"count\": -1}\n",
    "    }\n",
    "]\n",
    "\n",
    "# Run the aggregation pipeline\n",
    "transportation_modes = list(activities_collection.aggregate(pipeline))\n",
    "\n",
    "# Display the results\n",
    "print(\"Transportation modes and their activity counts:\")\n",
    "for mode in transportation_modes:\n",
    "    print(f\"Mode: {mode['_id']}, Count: {mode['count']}\")\n",
    "\n",
    "\n"
   ]
  },
  {
   "cell_type": "code",
   "execution_count": 23,
   "metadata": {},
   "outputs": [
    {
     "ename": "NameError",
     "evalue": "name 'activities' is not defined",
     "output_type": "error",
     "traceback": [
      "\u001b[0;31m---------------------------------------------------------------------------\u001b[0m",
      "\u001b[0;31mNameError\u001b[0m                                 Traceback (most recent call last)",
      "Cell \u001b[0;32mIn[23], line 5\u001b[0m\n\u001b[1;32m      1\u001b[0m \u001b[38;5;66;03m# 6a\u001b[39;00m\n\u001b[1;32m      2\u001b[0m \u001b[38;5;66;03m# Find the year with the most activities\u001b[39;00m\n\u001b[0;32m----> 5\u001b[0m result \u001b[38;5;241m=\u001b[39m \u001b[43mactivities\u001b[49m\u001b[38;5;241m.\u001b[39maggregate([\n\u001b[1;32m      6\u001b[0m     {\n\u001b[1;32m      7\u001b[0m         \u001b[38;5;66;03m# Step 1: Add a new field 'year' by extracting the year from 'start_date_time'\u001b[39;00m\n\u001b[1;32m      8\u001b[0m         \u001b[38;5;124m\"\u001b[39m\u001b[38;5;124m$addFields\u001b[39m\u001b[38;5;124m\"\u001b[39m: {\n\u001b[1;32m      9\u001b[0m             \u001b[38;5;124m\"\u001b[39m\u001b[38;5;124myear\u001b[39m\u001b[38;5;124m\"\u001b[39m: {\u001b[38;5;124m\"\u001b[39m\u001b[38;5;124m$year\u001b[39m\u001b[38;5;124m\"\u001b[39m: \u001b[38;5;124m\"\u001b[39m\u001b[38;5;124m$start_date_time\u001b[39m\u001b[38;5;124m\"\u001b[39m}\n\u001b[1;32m     10\u001b[0m         }\n\u001b[1;32m     11\u001b[0m     },\n\u001b[1;32m     12\u001b[0m     {\n\u001b[1;32m     13\u001b[0m         \u001b[38;5;66;03m# Step 2: Group by the 'year' field and count the number of activities per year\u001b[39;00m\n\u001b[1;32m     14\u001b[0m         \u001b[38;5;124m\"\u001b[39m\u001b[38;5;124m$group\u001b[39m\u001b[38;5;124m\"\u001b[39m: {\n\u001b[1;32m     15\u001b[0m             \u001b[38;5;124m\"\u001b[39m\u001b[38;5;124m_id\u001b[39m\u001b[38;5;124m\"\u001b[39m: \u001b[38;5;124m\"\u001b[39m\u001b[38;5;124m$year\u001b[39m\u001b[38;5;124m\"\u001b[39m,  \u001b[38;5;66;03m# Group by year\u001b[39;00m\n\u001b[1;32m     16\u001b[0m             \u001b[38;5;124m\"\u001b[39m\u001b[38;5;124mactivity_count\u001b[39m\u001b[38;5;124m\"\u001b[39m: {\u001b[38;5;124m\"\u001b[39m\u001b[38;5;124m$sum\u001b[39m\u001b[38;5;124m\"\u001b[39m: \u001b[38;5;241m1\u001b[39m}  \u001b[38;5;66;03m# Count the number of activities\u001b[39;00m\n\u001b[1;32m     17\u001b[0m         }\n\u001b[1;32m     18\u001b[0m     },\n\u001b[1;32m     19\u001b[0m     {\n\u001b[1;32m     20\u001b[0m         \u001b[38;5;66;03m# Step 3: Sort the result by 'activity_count' in descending order\u001b[39;00m\n\u001b[1;32m     21\u001b[0m         \u001b[38;5;124m\"\u001b[39m\u001b[38;5;124m$sort\u001b[39m\u001b[38;5;124m\"\u001b[39m: {\u001b[38;5;124m\"\u001b[39m\u001b[38;5;124mactivity_count\u001b[39m\u001b[38;5;124m\"\u001b[39m: \u001b[38;5;241m-\u001b[39m\u001b[38;5;241m1\u001b[39m}\n\u001b[1;32m     22\u001b[0m     },\n\u001b[1;32m     23\u001b[0m     {\n\u001b[1;32m     24\u001b[0m         \u001b[38;5;66;03m# Step 4: Limit the result to get only the top year with the most activities\u001b[39;00m\n\u001b[1;32m     25\u001b[0m         \u001b[38;5;124m\"\u001b[39m\u001b[38;5;124m$limit\u001b[39m\u001b[38;5;124m\"\u001b[39m: \u001b[38;5;241m1\u001b[39m\n\u001b[1;32m     26\u001b[0m     }\n\u001b[1;32m     27\u001b[0m ])\n\u001b[1;32m     29\u001b[0m \u001b[38;5;66;03m# Convert result to list and extract the year and activity count\u001b[39;00m\n\u001b[1;32m     30\u001b[0m most_active_year \u001b[38;5;241m=\u001b[39m \u001b[38;5;28mlist\u001b[39m(result)[\u001b[38;5;241m0\u001b[39m]\n",
      "\u001b[0;31mNameError\u001b[0m: name 'activities' is not defined"
     ]
    }
   ],
   "source": [
    "# 6a\n",
    "# Find the year with the most activities\n",
    "\n",
    "\n",
    "\n",
    "\n",
    "\n",
    "\n"
   ]
  },
  {
   "cell_type": "code",
   "execution_count": null,
   "metadata": {},
   "outputs": [],
   "source": []
  }
 ],
 "metadata": {
  "kernelspec": {
   "display_name": "Python 3",
   "language": "python",
   "name": "python3"
  },
  "language_info": {
   "codemirror_mode": {
    "name": "ipython",
    "version": 3
   },
   "file_extension": ".py",
   "mimetype": "text/x-python",
   "name": "python",
   "nbconvert_exporter": "python",
   "pygments_lexer": "ipython3",
   "version": "3.12.2"
  }
 },
 "nbformat": 4,
 "nbformat_minor": 2
}
